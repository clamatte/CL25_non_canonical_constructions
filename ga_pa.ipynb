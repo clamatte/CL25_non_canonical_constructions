{
 "cells": [
  {
   "cell_type": "code",
   "execution_count": 1,
   "id": "d6ca2086",
   "metadata": {},
   "outputs": [],
   "source": [
    "import pandas as pd\n",
    "import numpy as np\n",
    "\n",
    "df = pd.read_excel('concordance_preloaded_notenten23_tt1_20250617165050.xlsx')"
   ]
  },
  {
   "cell_type": "code",
   "execution_count": 2,
   "id": "a7d7cca2",
   "metadata": {},
   "outputs": [
    {
     "data": {
      "text/html": [
       "<div>\n",
       "<style scoped>\n",
       "    .dataframe tbody tr th:only-of-type {\n",
       "        vertical-align: middle;\n",
       "    }\n",
       "\n",
       "    .dataframe tbody tr th {\n",
       "        vertical-align: top;\n",
       "    }\n",
       "\n",
       "    .dataframe thead th {\n",
       "        text-align: right;\n",
       "    }\n",
       "</style>\n",
       "<table border=\"1\" class=\"dataframe\">\n",
       "  <thead>\n",
       "    <tr style=\"text-align: right;\">\n",
       "      <th></th>\n",
       "      <th>Reference</th>\n",
       "      <th>Sentence</th>\n",
       "    </tr>\n",
       "  </thead>\n",
       "  <tbody>\n",
       "    <tr>\n",
       "      <th>0</th>\n",
       "      <td>ht.no,2021-01-12 04:34</td>\n",
       "      <td>&lt;s&gt; Harstad-jenta har gått på Heggen videregåe...</td>\n",
       "    </tr>\n",
       "    <tr>\n",
       "      <th>1</th>\n",
       "      <td>tu.no,2020-12-28 22:10</td>\n",
       "      <td>&lt;s&gt; Det vil si, de kan også gå på diesel . &lt;/s&gt;</td>\n",
       "    </tr>\n",
       "    <tr>\n",
       "      <th>2</th>\n",
       "      <td>tu.no,2020-12-30 09:20</td>\n",
       "      <td>&lt;s&gt; De resterende nesten tusen bussene går på ...</td>\n",
       "    </tr>\n",
       "    <tr>\n",
       "      <th>3</th>\n",
       "      <td>vi.no,2020-12-24 20:51</td>\n",
       "      <td>&lt;s&gt; I artikkelen forteller Elsa hvordan hun gj...</td>\n",
       "    </tr>\n",
       "    <tr>\n",
       "      <th>4</th>\n",
       "      <td>ks.no,2020-12-22 12:03</td>\n",
       "      <td>&lt;s&gt; Når vi nå åpner opp for de resterende komm...</td>\n",
       "    </tr>\n",
       "    <tr>\n",
       "      <th>...</th>\n",
       "      <td>...</td>\n",
       "      <td>...</td>\n",
       "    </tr>\n",
       "    <tr>\n",
       "      <th>9995</th>\n",
       "      <td>blogspot.com,2020-12-27 09:41</td>\n",
       "      <td>&lt;s&gt; Ingrid lagde Chili con carne med utgangspu...</td>\n",
       "    </tr>\n",
       "    <tr>\n",
       "      <th>9996</th>\n",
       "      <td>blogspot.com,2020-12-24 11:09</td>\n",
       "      <td>&lt;s&gt; Noen går på terrassen her, noen på terrass...</td>\n",
       "    </tr>\n",
       "    <tr>\n",
       "      <th>9997</th>\n",
       "      <td>norwegianforum.net,2020-12-23 11:02</td>\n",
       "      <td>&lt;s&gt; Hun har nå gått på antibiotika i 14 dager,...</td>\n",
       "    </tr>\n",
       "    <tr>\n",
       "      <th>9998</th>\n",
       "      <td>norwegianforum.net,2020-12-24 12:28</td>\n",
       "      <td>&lt;s&gt; Når mine går på tredemølle bruker jeg førs...</td>\n",
       "    </tr>\n",
       "    <tr>\n",
       "      <th>9999</th>\n",
       "      <td>blogspot.com,2021-01-27 15:59</td>\n",
       "      <td>&lt;s&gt; Jeg tror mange foretrekker å gå på gress o...</td>\n",
       "    </tr>\n",
       "  </tbody>\n",
       "</table>\n",
       "<p>10000 rows × 2 columns</p>\n",
       "</div>"
      ],
      "text/plain": [
       "                                Reference  \\\n",
       "0                  ht.no,2021-01-12 04:34   \n",
       "1                  tu.no,2020-12-28 22:10   \n",
       "2                  tu.no,2020-12-30 09:20   \n",
       "3                  vi.no,2020-12-24 20:51   \n",
       "4                  ks.no,2020-12-22 12:03   \n",
       "...                                   ...   \n",
       "9995        blogspot.com,2020-12-27 09:41   \n",
       "9996        blogspot.com,2020-12-24 11:09   \n",
       "9997  norwegianforum.net,2020-12-23 11:02   \n",
       "9998  norwegianforum.net,2020-12-24 12:28   \n",
       "9999        blogspot.com,2021-01-27 15:59   \n",
       "\n",
       "                                               Sentence  \n",
       "0     <s> Harstad-jenta har gått på Heggen videregåe...  \n",
       "1       <s> Det vil si, de kan også gå på diesel . </s>  \n",
       "2     <s> De resterende nesten tusen bussene går på ...  \n",
       "3     <s> I artikkelen forteller Elsa hvordan hun gj...  \n",
       "4     <s> Når vi nå åpner opp for de resterende komm...  \n",
       "...                                                 ...  \n",
       "9995  <s> Ingrid lagde Chili con carne med utgangspu...  \n",
       "9996  <s> Noen går på terrassen her, noen på terrass...  \n",
       "9997  <s> Hun har nå gått på antibiotika i 14 dager,...  \n",
       "9998  <s> Når mine går på tredemølle bruker jeg førs...  \n",
       "9999  <s> Jeg tror mange foretrekker å gå på gress o...  \n",
       "\n",
       "[10000 rows x 2 columns]"
      ]
     },
     "execution_count": 2,
     "metadata": {},
     "output_type": "execute_result"
    }
   ],
   "source": [
    "df"
   ]
  },
  {
   "cell_type": "code",
   "execution_count": 3,
   "id": "4d93d53b",
   "metadata": {},
   "outputs": [],
   "source": [
    "df[['URL', 'Date']] = df['Reference'].str.split(',',expand=True).copy()"
   ]
  },
  {
   "cell_type": "code",
   "execution_count": 4,
   "id": "0e87e92e",
   "metadata": {},
   "outputs": [],
   "source": [
    "df = df.drop(columns=['Reference'])"
   ]
  },
  {
   "cell_type": "code",
   "execution_count": 5,
   "id": "6fce0ac0",
   "metadata": {},
   "outputs": [],
   "source": [
    "import re\n",
    "# Define the function to normalize text\n",
    "def normalize_text(text):\n",
    "    \"\"\"text cleaning just for whitespaces and amc sentence markers\"\"\"\n",
    "    # remove <s>\n",
    "    text = re.sub(r'<s>', '', text)\n",
    "    text = re.sub(r'</s>', '', text)\n",
    "    text = text.strip() # remove leading and trailing whitespace\n",
    "    return text"
   ]
  },
  {
   "cell_type": "code",
   "execution_count": 6,
   "id": "cbdd440c",
   "metadata": {},
   "outputs": [],
   "source": [
    "df['text'] = df['Sentence'].apply(normalize_text)"
   ]
  },
  {
   "cell_type": "code",
   "execution_count": 7,
   "id": "c85f8a58",
   "metadata": {},
   "outputs": [
    {
     "name": "stdout",
     "output_type": "stream",
     "text": [
      "Defaulting to user installation because normal site-packages is not writeable\n",
      "Collecting nb-core-news-sm==3.7.0\n",
      "  Downloading https://github.com/explosion/spacy-models/releases/download/nb_core_news_sm-3.7.0/nb_core_news_sm-3.7.0-py3-none-any.whl (12.5 MB)\n",
      "     ---------------------------------------- 0.0/12.5 MB ? eta -:--:--\n",
      "     -------------------------------- ------ 10.5/12.5 MB 50.4 MB/s eta 0:00:01\n",
      "     --------------------------------------- 12.5/12.5 MB 35.6 MB/s eta 0:00:00\n",
      "Requirement already satisfied: spacy<3.8.0,>=3.7.0 in c:\\program files\\python312\\lib\\site-packages (from nb-core-news-sm==3.7.0) (3.7.5)\n",
      "Requirement already satisfied: spacy-legacy<3.1.0,>=3.0.11 in c:\\program files\\python312\\lib\\site-packages (from spacy<3.8.0,>=3.7.0->nb-core-news-sm==3.7.0) (3.0.12)\n",
      "Requirement already satisfied: spacy-loggers<2.0.0,>=1.0.0 in c:\\program files\\python312\\lib\\site-packages (from spacy<3.8.0,>=3.7.0->nb-core-news-sm==3.7.0) (1.0.5)\n",
      "Requirement already satisfied: murmurhash<1.1.0,>=0.28.0 in c:\\program files\\python312\\lib\\site-packages (from spacy<3.8.0,>=3.7.0->nb-core-news-sm==3.7.0) (1.0.10)\n",
      "Requirement already satisfied: cymem<2.1.0,>=2.0.2 in c:\\program files\\python312\\lib\\site-packages (from spacy<3.8.0,>=3.7.0->nb-core-news-sm==3.7.0) (2.0.8)\n",
      "Requirement already satisfied: preshed<3.1.0,>=3.0.2 in c:\\program files\\python312\\lib\\site-packages (from spacy<3.8.0,>=3.7.0->nb-core-news-sm==3.7.0) (3.0.9)\n",
      "Requirement already satisfied: thinc<8.3.0,>=8.2.2 in c:\\program files\\python312\\lib\\site-packages (from spacy<3.8.0,>=3.7.0->nb-core-news-sm==3.7.0) (8.2.5)\n",
      "Requirement already satisfied: wasabi<1.2.0,>=0.9.1 in c:\\program files\\python312\\lib\\site-packages (from spacy<3.8.0,>=3.7.0->nb-core-news-sm==3.7.0) (1.1.3)\n",
      "Requirement already satisfied: srsly<3.0.0,>=2.4.3 in c:\\program files\\python312\\lib\\site-packages (from spacy<3.8.0,>=3.7.0->nb-core-news-sm==3.7.0) (2.4.8)\n",
      "Requirement already satisfied: catalogue<2.1.0,>=2.0.6 in c:\\program files\\python312\\lib\\site-packages (from spacy<3.8.0,>=3.7.0->nb-core-news-sm==3.7.0) (2.0.10)\n",
      "Requirement already satisfied: weasel<0.5.0,>=0.1.0 in c:\\program files\\python312\\lib\\site-packages (from spacy<3.8.0,>=3.7.0->nb-core-news-sm==3.7.0) (0.4.1)\n",
      "Requirement already satisfied: typer<1.0.0,>=0.3.0 in c:\\program files\\python312\\lib\\site-packages (from spacy<3.8.0,>=3.7.0->nb-core-news-sm==3.7.0) (0.12.3)\n",
      "Requirement already satisfied: tqdm<5.0.0,>=4.38.0 in c:\\program files\\python312\\lib\\site-packages (from spacy<3.8.0,>=3.7.0->nb-core-news-sm==3.7.0) (4.66.5)\n",
      "Requirement already satisfied: requests<3.0.0,>=2.13.0 in c:\\program files\\python312\\lib\\site-packages (from spacy<3.8.0,>=3.7.0->nb-core-news-sm==3.7.0) (2.32.3)\n",
      "Requirement already satisfied: pydantic!=1.8,!=1.8.1,<3.0.0,>=1.7.4 in c:\\program files\\python312\\lib\\site-packages (from spacy<3.8.0,>=3.7.0->nb-core-news-sm==3.7.0) (2.8.2)\n",
      "Requirement already satisfied: jinja2 in c:\\program files\\python312\\lib\\site-packages (from spacy<3.8.0,>=3.7.0->nb-core-news-sm==3.7.0) (3.1.4)\n",
      "Requirement already satisfied: setuptools in c:\\program files\\python312\\lib\\site-packages (from spacy<3.8.0,>=3.7.0->nb-core-news-sm==3.7.0) (72.1.0)\n",
      "Requirement already satisfied: packaging>=20.0 in c:\\program files\\python312\\lib\\site-packages (from spacy<3.8.0,>=3.7.0->nb-core-news-sm==3.7.0) (24.1)\n",
      "Requirement already satisfied: langcodes<4.0.0,>=3.2.0 in c:\\program files\\python312\\lib\\site-packages (from spacy<3.8.0,>=3.7.0->nb-core-news-sm==3.7.0) (3.4.0)\n",
      "Requirement already satisfied: numpy>=1.19.0 in c:\\program files\\python312\\lib\\site-packages (from spacy<3.8.0,>=3.7.0->nb-core-news-sm==3.7.0) (1.26.4)\n",
      "Requirement already satisfied: language-data>=1.2 in c:\\program files\\python312\\lib\\site-packages (from langcodes<4.0.0,>=3.2.0->spacy<3.8.0,>=3.7.0->nb-core-news-sm==3.7.0) (1.2.0)\n",
      "Requirement already satisfied: annotated-types>=0.4.0 in c:\\program files\\python312\\lib\\site-packages (from pydantic!=1.8,!=1.8.1,<3.0.0,>=1.7.4->spacy<3.8.0,>=3.7.0->nb-core-news-sm==3.7.0) (0.7.0)\n",
      "Requirement already satisfied: pydantic-core==2.20.1 in c:\\program files\\python312\\lib\\site-packages (from pydantic!=1.8,!=1.8.1,<3.0.0,>=1.7.4->spacy<3.8.0,>=3.7.0->nb-core-news-sm==3.7.0) (2.20.1)\n",
      "Requirement already satisfied: typing-extensions>=4.6.1 in c:\\program files\\python312\\lib\\site-packages (from pydantic!=1.8,!=1.8.1,<3.0.0,>=1.7.4->spacy<3.8.0,>=3.7.0->nb-core-news-sm==3.7.0) (4.12.2)\n",
      "Requirement already satisfied: charset-normalizer<4,>=2 in c:\\program files\\python312\\lib\\site-packages (from requests<3.0.0,>=2.13.0->spacy<3.8.0,>=3.7.0->nb-core-news-sm==3.7.0) (3.3.2)\n",
      "Requirement already satisfied: idna<4,>=2.5 in c:\\program files\\python312\\lib\\site-packages (from requests<3.0.0,>=2.13.0->spacy<3.8.0,>=3.7.0->nb-core-news-sm==3.7.0) (3.7)\n",
      "Requirement already satisfied: urllib3<3,>=1.21.1 in c:\\program files\\python312\\lib\\site-packages (from requests<3.0.0,>=2.13.0->spacy<3.8.0,>=3.7.0->nb-core-news-sm==3.7.0) (2.2.2)\n",
      "Requirement already satisfied: certifi>=2017.4.17 in c:\\program files\\python312\\lib\\site-packages (from requests<3.0.0,>=2.13.0->spacy<3.8.0,>=3.7.0->nb-core-news-sm==3.7.0) (2024.7.4)\n",
      "Requirement already satisfied: blis<0.8.0,>=0.7.8 in c:\\program files\\python312\\lib\\site-packages (from thinc<8.3.0,>=8.2.2->spacy<3.8.0,>=3.7.0->nb-core-news-sm==3.7.0) (0.7.11)\n",
      "Requirement already satisfied: confection<1.0.0,>=0.0.1 in c:\\program files\\python312\\lib\\site-packages (from thinc<8.3.0,>=8.2.2->spacy<3.8.0,>=3.7.0->nb-core-news-sm==3.7.0) (0.1.5)\n",
      "Requirement already satisfied: colorama in c:\\program files\\python312\\lib\\site-packages (from tqdm<5.0.0,>=4.38.0->spacy<3.8.0,>=3.7.0->nb-core-news-sm==3.7.0) (0.4.6)\n",
      "Requirement already satisfied: click>=8.0.0 in c:\\program files\\python312\\lib\\site-packages (from typer<1.0.0,>=0.3.0->spacy<3.8.0,>=3.7.0->nb-core-news-sm==3.7.0) (8.1.7)\n",
      "Requirement already satisfied: shellingham>=1.3.0 in c:\\program files\\python312\\lib\\site-packages (from typer<1.0.0,>=0.3.0->spacy<3.8.0,>=3.7.0->nb-core-news-sm==3.7.0) (1.5.4)\n",
      "Requirement already satisfied: rich>=10.11.0 in c:\\program files\\python312\\lib\\site-packages (from typer<1.0.0,>=0.3.0->spacy<3.8.0,>=3.7.0->nb-core-news-sm==3.7.0) (13.7.1)\n",
      "Requirement already satisfied: cloudpathlib<1.0.0,>=0.7.0 in c:\\program files\\python312\\lib\\site-packages (from weasel<0.5.0,>=0.1.0->spacy<3.8.0,>=3.7.0->nb-core-news-sm==3.7.0) (0.18.1)\n",
      "Requirement already satisfied: smart-open<8.0.0,>=5.2.1 in c:\\program files\\python312\\lib\\site-packages (from weasel<0.5.0,>=0.1.0->spacy<3.8.0,>=3.7.0->nb-core-news-sm==3.7.0) (7.0.4)\n",
      "Requirement already satisfied: MarkupSafe>=2.0 in c:\\program files\\python312\\lib\\site-packages (from jinja2->spacy<3.8.0,>=3.7.0->nb-core-news-sm==3.7.0) (2.1.5)\n",
      "Requirement already satisfied: marisa-trie>=0.7.7 in c:\\program files\\python312\\lib\\site-packages (from language-data>=1.2->langcodes<4.0.0,>=3.2.0->spacy<3.8.0,>=3.7.0->nb-core-news-sm==3.7.0) (1.2.0)\n",
      "Requirement already satisfied: markdown-it-py>=2.2.0 in c:\\program files\\python312\\lib\\site-packages (from rich>=10.11.0->typer<1.0.0,>=0.3.0->spacy<3.8.0,>=3.7.0->nb-core-news-sm==3.7.0) (3.0.0)\n",
      "Requirement already satisfied: pygments<3.0.0,>=2.13.0 in c:\\program files\\python312\\lib\\site-packages (from rich>=10.11.0->typer<1.0.0,>=0.3.0->spacy<3.8.0,>=3.7.0->nb-core-news-sm==3.7.0) (2.18.0)\n",
      "Requirement already satisfied: wrapt in c:\\program files\\python312\\lib\\site-packages (from smart-open<8.0.0,>=5.2.1->weasel<0.5.0,>=0.1.0->spacy<3.8.0,>=3.7.0->nb-core-news-sm==3.7.0) (1.16.0)\n",
      "Requirement already satisfied: mdurl~=0.1 in c:\\program files\\python312\\lib\\site-packages (from markdown-it-py>=2.2.0->rich>=10.11.0->typer<1.0.0,>=0.3.0->spacy<3.8.0,>=3.7.0->nb-core-news-sm==3.7.0) (0.1.2)\n",
      "\u001b[38;5;2m✔ Download and installation successful\u001b[0m\n",
      "You can now load the package via spacy.load('nb_core_news_sm')\n"
     ]
    },
    {
     "name": "stderr",
     "output_type": "stream",
     "text": [
      "\n",
      "[notice] A new release of pip is available: 24.3.1 -> 25.1.1\n",
      "[notice] To update, run: python.exe -m pip install --upgrade pip\n"
     ]
    }
   ],
   "source": [
    "!python -m spacy download nb_core_news_sm"
   ]
  },
  {
   "cell_type": "code",
   "execution_count": 8,
   "id": "32dd0d5c",
   "metadata": {},
   "outputs": [],
   "source": [
    "import spacy\n",
    "nlp = spacy.load(\"nb_core_news_sm\")"
   ]
  },
  {
   "cell_type": "code",
   "execution_count": 18,
   "id": "66865774",
   "metadata": {},
   "outputs": [],
   "source": [
    "def get_nouns_after_ga_pa(text):\n",
    "    doc = nlp(text)\n",
    "    nouns = []\n",
    "    \n",
    "    for i in range(len(doc)-2):  # -2 because we need at least 3 tokens (gå + på + noun)\n",
    "        if doc[i].lemma_ == 'gå' and doc[i+1].text.lower() == 'på':\n",
    "            # Get the next token and check if it's a noun\n",
    "            j = i + 2\n",
    "            while j < len(doc) and (doc[j].is_punct or doc[j].text.lower() in ['og', 'eller']):\n",
    "                j += 1\n",
    "            if j < len(doc) and doc[j].pos_ == 'NOUN':\n",
    "                nouns.append(doc[j].text)\n",
    "    \n",
    "    # Join the nouns with comma if there are multiple nouns\n",
    "    return ', '.join(nouns) if nouns else ''\n",
    "\n",
    "# Apply the function to the 'text' column and create a new column 'nouns_after_ga_pa'\n",
    "df['nouns'] = df['text'].apply(get_nouns_after_ga_pa)"
   ]
  },
  {
   "cell_type": "code",
   "execution_count": 20,
   "id": "1110cd69",
   "metadata": {},
   "outputs": [
    {
     "data": {
      "text/plain": [
       "Sentence    10000\n",
       "URL         10000\n",
       "Date        10000\n",
       "text        10000\n",
       "nouns       10000\n",
       "dtype: int64"
      ]
     },
     "execution_count": 20,
     "metadata": {},
     "output_type": "execute_result"
    }
   ],
   "source": [
    "df.count()"
   ]
  },
  {
   "cell_type": "code",
   "execution_count": 22,
   "id": "77a4f19c",
   "metadata": {},
   "outputs": [],
   "source": [
    "df.to_excel('gå_på_nouns.xlsx', index=False)"
   ]
  }
 ],
 "metadata": {
  "kernelspec": {
   "display_name": "Python 3",
   "language": "python",
   "name": "python3"
  },
  "language_info": {
   "codemirror_mode": {
    "name": "ipython",
    "version": 3
   },
   "file_extension": ".py",
   "mimetype": "text/x-python",
   "name": "python",
   "nbconvert_exporter": "python",
   "pygments_lexer": "ipython3",
   "version": "3.12.4"
  }
 },
 "nbformat": 4,
 "nbformat_minor": 5
}
