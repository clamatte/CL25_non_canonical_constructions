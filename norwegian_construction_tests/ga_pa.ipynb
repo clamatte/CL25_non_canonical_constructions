{
 "cells": [
  {
   "cell_type": "code",
   "execution_count": null,
   "id": "d6ca2086",
   "metadata": {},
   "outputs": [],
   "source": [
    "import pandas as pd\n",
    "import functions\n",
    "df = pd.read_excel('concordance_preloaded_notenten23_tt1_20250617165050.xlsx')"
   ]
  },
  {
   "cell_type": "code",
   "execution_count": 2,
   "id": "a7d7cca2",
   "metadata": {},
   "outputs": [
    {
     "data": {
      "text/html": [
       "<div>\n",
       "<style scoped>\n",
       "    .dataframe tbody tr th:only-of-type {\n",
       "        vertical-align: middle;\n",
       "    }\n",
       "\n",
       "    .dataframe tbody tr th {\n",
       "        vertical-align: top;\n",
       "    }\n",
       "\n",
       "    .dataframe thead th {\n",
       "        text-align: right;\n",
       "    }\n",
       "</style>\n",
       "<table border=\"1\" class=\"dataframe\">\n",
       "  <thead>\n",
       "    <tr style=\"text-align: right;\">\n",
       "      <th></th>\n",
       "      <th>Reference</th>\n",
       "      <th>Sentence</th>\n",
       "    </tr>\n",
       "  </thead>\n",
       "  <tbody>\n",
       "    <tr>\n",
       "      <th>0</th>\n",
       "      <td>ht.no,2021-01-12 04:34</td>\n",
       "      <td>&lt;s&gt; Harstad-jenta har gått på Heggen videregåe...</td>\n",
       "    </tr>\n",
       "    <tr>\n",
       "      <th>1</th>\n",
       "      <td>tu.no,2020-12-28 22:10</td>\n",
       "      <td>&lt;s&gt; Det vil si, de kan også gå på diesel . &lt;/s&gt;</td>\n",
       "    </tr>\n",
       "    <tr>\n",
       "      <th>2</th>\n",
       "      <td>tu.no,2020-12-30 09:20</td>\n",
       "      <td>&lt;s&gt; De resterende nesten tusen bussene går på ...</td>\n",
       "    </tr>\n",
       "    <tr>\n",
       "      <th>3</th>\n",
       "      <td>vi.no,2020-12-24 20:51</td>\n",
       "      <td>&lt;s&gt; I artikkelen forteller Elsa hvordan hun gj...</td>\n",
       "    </tr>\n",
       "    <tr>\n",
       "      <th>4</th>\n",
       "      <td>ks.no,2020-12-22 12:03</td>\n",
       "      <td>&lt;s&gt; Når vi nå åpner opp for de resterende komm...</td>\n",
       "    </tr>\n",
       "    <tr>\n",
       "      <th>...</th>\n",
       "      <td>...</td>\n",
       "      <td>...</td>\n",
       "    </tr>\n",
       "    <tr>\n",
       "      <th>9995</th>\n",
       "      <td>blogspot.com,2020-12-27 09:41</td>\n",
       "      <td>&lt;s&gt; Ingrid lagde Chili con carne med utgangspu...</td>\n",
       "    </tr>\n",
       "    <tr>\n",
       "      <th>9996</th>\n",
       "      <td>blogspot.com,2020-12-24 11:09</td>\n",
       "      <td>&lt;s&gt; Noen går på terrassen her, noen på terrass...</td>\n",
       "    </tr>\n",
       "    <tr>\n",
       "      <th>9997</th>\n",
       "      <td>norwegianforum.net,2020-12-23 11:02</td>\n",
       "      <td>&lt;s&gt; Hun har nå gått på antibiotika i 14 dager,...</td>\n",
       "    </tr>\n",
       "    <tr>\n",
       "      <th>9998</th>\n",
       "      <td>norwegianforum.net,2020-12-24 12:28</td>\n",
       "      <td>&lt;s&gt; Når mine går på tredemølle bruker jeg førs...</td>\n",
       "    </tr>\n",
       "    <tr>\n",
       "      <th>9999</th>\n",
       "      <td>blogspot.com,2021-01-27 15:59</td>\n",
       "      <td>&lt;s&gt; Jeg tror mange foretrekker å gå på gress o...</td>\n",
       "    </tr>\n",
       "  </tbody>\n",
       "</table>\n",
       "<p>10000 rows × 2 columns</p>\n",
       "</div>"
      ],
      "text/plain": [
       "                                Reference  \\\n",
       "0                  ht.no,2021-01-12 04:34   \n",
       "1                  tu.no,2020-12-28 22:10   \n",
       "2                  tu.no,2020-12-30 09:20   \n",
       "3                  vi.no,2020-12-24 20:51   \n",
       "4                  ks.no,2020-12-22 12:03   \n",
       "...                                   ...   \n",
       "9995        blogspot.com,2020-12-27 09:41   \n",
       "9996        blogspot.com,2020-12-24 11:09   \n",
       "9997  norwegianforum.net,2020-12-23 11:02   \n",
       "9998  norwegianforum.net,2020-12-24 12:28   \n",
       "9999        blogspot.com,2021-01-27 15:59   \n",
       "\n",
       "                                               Sentence  \n",
       "0     <s> Harstad-jenta har gått på Heggen videregåe...  \n",
       "1       <s> Det vil si, de kan også gå på diesel . </s>  \n",
       "2     <s> De resterende nesten tusen bussene går på ...  \n",
       "3     <s> I artikkelen forteller Elsa hvordan hun gj...  \n",
       "4     <s> Når vi nå åpner opp for de resterende komm...  \n",
       "...                                                 ...  \n",
       "9995  <s> Ingrid lagde Chili con carne med utgangspu...  \n",
       "9996  <s> Noen går på terrassen her, noen på terrass...  \n",
       "9997  <s> Hun har nå gått på antibiotika i 14 dager,...  \n",
       "9998  <s> Når mine går på tredemølle bruker jeg førs...  \n",
       "9999  <s> Jeg tror mange foretrekker å gå på gress o...  \n",
       "\n",
       "[10000 rows x 2 columns]"
      ]
     },
     "execution_count": 2,
     "metadata": {},
     "output_type": "execute_result"
    }
   ],
   "source": [
    "df"
   ]
  },
  {
   "cell_type": "code",
   "execution_count": 3,
   "id": "4d93d53b",
   "metadata": {},
   "outputs": [],
   "source": [
    "df[['URL', 'Date']] = df['Reference'].str.split(',',expand=True).copy()"
   ]
  },
  {
   "cell_type": "code",
   "execution_count": 4,
   "id": "0e87e92e",
   "metadata": {},
   "outputs": [],
   "source": [
    "df = df.drop(columns=['Reference'])"
   ]
  },
  {
   "cell_type": "code",
   "execution_count": null,
   "id": "cbdd440c",
   "metadata": {},
   "outputs": [],
   "source": [
    "df['text'] = df['Sentence'].apply(functions.normalize_text)"
   ]
  },
  {
   "cell_type": "code",
   "execution_count": 8,
   "id": "32dd0d5c",
   "metadata": {},
   "outputs": [],
   "source": [
    "import spacy\n",
    "nlp = spacy.load(\"nb_core_news_sm\")"
   ]
  },
  {
   "cell_type": "code",
   "execution_count": 27,
   "id": "6ca95a48",
   "metadata": {},
   "outputs": [],
   "source": [
    "def get_nouns_after_ga_pa(text):\n",
    "    doc = nlp(text)\n",
    "    for i in range(len(doc)-2):\n",
    "        if doc[i].lemma_ == 'gå' and doc[i+1].text.lower() == 'på':\n",
    "            j = i + 2\n",
    "            if j < len(doc) and (doc[j].is_punct or doc[j].text.lower() in ['og', 'eller']):\n",
    "                continue\n",
    "            if j < len(doc) and doc[j].pos_ == 'NOUN':\n",
    "                return doc[j].lemma_ #return lemmatised noun\n",
    "    return ''\n",
    "\n",
    "df['nouns'] = df['text'].apply(get_nouns_after_ga_pa)"
   ]
  },
  {
   "cell_type": "code",
   "execution_count": 28,
   "id": "26e7f167",
   "metadata": {},
   "outputs": [
    {
     "data": {
      "text/html": [
       "<div>\n",
       "<style scoped>\n",
       "    .dataframe tbody tr th:only-of-type {\n",
       "        vertical-align: middle;\n",
       "    }\n",
       "\n",
       "    .dataframe tbody tr th {\n",
       "        vertical-align: top;\n",
       "    }\n",
       "\n",
       "    .dataframe thead th {\n",
       "        text-align: right;\n",
       "    }\n",
       "</style>\n",
       "<table border=\"1\" class=\"dataframe\">\n",
       "  <thead>\n",
       "    <tr style=\"text-align: right;\">\n",
       "      <th></th>\n",
       "      <th>Sentence</th>\n",
       "      <th>URL</th>\n",
       "      <th>Date</th>\n",
       "      <th>text</th>\n",
       "      <th>nouns</th>\n",
       "    </tr>\n",
       "  </thead>\n",
       "  <tbody>\n",
       "    <tr>\n",
       "      <th>0</th>\n",
       "      <td>&lt;s&gt; Harstad-jenta har gått på Heggen videregåe...</td>\n",
       "      <td>ht.no</td>\n",
       "      <td>2021-01-12 04:34</td>\n",
       "      <td>Harstad-jenta har gått på Heggen videregående ...</td>\n",
       "      <td>NaN</td>\n",
       "    </tr>\n",
       "    <tr>\n",
       "      <th>1</th>\n",
       "      <td>&lt;s&gt; Det vil si, de kan også gå på diesel . &lt;/s&gt;</td>\n",
       "      <td>tu.no</td>\n",
       "      <td>2020-12-28 22:10</td>\n",
       "      <td>Det vil si, de kan også gå på diesel .</td>\n",
       "      <td>diesel</td>\n",
       "    </tr>\n",
       "    <tr>\n",
       "      <th>2</th>\n",
       "      <td>&lt;s&gt; De resterende nesten tusen bussene går på ...</td>\n",
       "      <td>tu.no</td>\n",
       "      <td>2020-12-30 09:20</td>\n",
       "      <td>De resterende nesten tusen bussene går på dies...</td>\n",
       "      <td>diesel</td>\n",
       "    </tr>\n",
       "    <tr>\n",
       "      <th>3</th>\n",
       "      <td>&lt;s&gt; I artikkelen forteller Elsa hvordan hun gj...</td>\n",
       "      <td>vi.no</td>\n",
       "      <td>2020-12-24 20:51</td>\n",
       "      <td>I artikkelen forteller Elsa hvordan hun gjenno...</td>\n",
       "      <td>jobb</td>\n",
       "    </tr>\n",
       "    <tr>\n",
       "      <th>4</th>\n",
       "      <td>&lt;s&gt; Når vi nå åpner opp for de resterende komm...</td>\n",
       "      <td>ks.no</td>\n",
       "      <td>2020-12-22 12:03</td>\n",
       "      <td>Når vi nå åpner opp for de resterende kommunen...</td>\n",
       "      <td>papir</td>\n",
       "    </tr>\n",
       "  </tbody>\n",
       "</table>\n",
       "</div>"
      ],
      "text/plain": [
       "                                            Sentence    URL              Date  \\\n",
       "0  <s> Harstad-jenta har gått på Heggen videregåe...  ht.no  2021-01-12 04:34   \n",
       "1    <s> Det vil si, de kan også gå på diesel . </s>  tu.no  2020-12-28 22:10   \n",
       "2  <s> De resterende nesten tusen bussene går på ...  tu.no  2020-12-30 09:20   \n",
       "3  <s> I artikkelen forteller Elsa hvordan hun gj...  vi.no  2020-12-24 20:51   \n",
       "4  <s> Når vi nå åpner opp for de resterende komm...  ks.no  2020-12-22 12:03   \n",
       "\n",
       "                                                text   nouns  \n",
       "0  Harstad-jenta har gått på Heggen videregående ...     NaN  \n",
       "1             Det vil si, de kan også gå på diesel .  diesel  \n",
       "2  De resterende nesten tusen bussene går på dies...  diesel  \n",
       "3  I artikkelen forteller Elsa hvordan hun gjenno...    jobb  \n",
       "4  Når vi nå åpner opp for de resterende kommunen...   papir  "
      ]
     },
     "execution_count": 28,
     "metadata": {},
     "output_type": "execute_result"
    }
   ],
   "source": [
    "#nan values the df\n",
    "nan_value = float(\"NaN\")\n",
    "df.replace(\"\", nan_value, inplace=True)\n",
    "df.head()"
   ]
  },
  {
   "cell_type": "code",
   "execution_count": 29,
   "id": "63582c55",
   "metadata": {},
   "outputs": [
    {
     "data": {
      "text/plain": [
       "Sentence    10000\n",
       "URL         10000\n",
       "Date        10000\n",
       "text        10000\n",
       "nouns        7428\n",
       "dtype: int64"
      ]
     },
     "execution_count": 29,
     "metadata": {},
     "output_type": "execute_result"
    }
   ],
   "source": [
    "df.count()"
   ]
  },
  {
   "cell_type": "code",
   "execution_count": 30,
   "id": "84bcef97",
   "metadata": {},
   "outputs": [
    {
     "data": {
      "text/plain": [
       "nouns\n",
       "skole              670\n",
       "bekostning         536\n",
       "ski                290\n",
       "jobb               228\n",
       "tvers              195\n",
       "                  ... \n",
       "vareinformasjon      1\n",
       "høn                  1\n",
       "lovskol              1\n",
       "frels                1\n",
       "terrasse             1\n",
       "Name: count, Length: 1784, dtype: int64"
      ]
     },
     "execution_count": 30,
     "metadata": {},
     "output_type": "execute_result"
    }
   ],
   "source": [
    "df['nouns'].value_counts()"
   ]
  },
  {
   "cell_type": "code",
   "execution_count": 31,
   "id": "77a4f19c",
   "metadata": {},
   "outputs": [],
   "source": [
    "df.to_excel('gå_på_nouns.xlsx', index=False)"
   ]
  }
 ],
 "metadata": {
  "kernelspec": {
   "display_name": "Python 3",
   "language": "python",
   "name": "python3"
  },
  "language_info": {
   "codemirror_mode": {
    "name": "ipython",
    "version": 3
   },
   "file_extension": ".py",
   "mimetype": "text/x-python",
   "name": "python",
   "nbconvert_exporter": "python",
   "pygments_lexer": "ipython3",
   "version": "3.12.4"
  }
 },
 "nbformat": 4,
 "nbformat_minor": 5
}
