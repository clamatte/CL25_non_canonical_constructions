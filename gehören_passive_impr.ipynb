{
 "cells": [
  {
   "cell_type": "code",
   "execution_count": 10,
   "metadata": {},
   "outputs": [
    {
     "name": "stderr",
     "output_type": "stream",
     "text": [
      "c:\\Program Files\\Python312\\Lib\\site-packages\\thinc\\shims\\pytorch.py:253: FutureWarning: You are using `torch.load` with `weights_only=False` (the current default value), which uses the default pickle module implicitly. It is possible to construct malicious pickle data which will execute arbitrary code during unpickling (See https://github.com/pytorch/pytorch/blob/main/SECURITY.md#untrusted-models for more details). In a future release, the default value for `weights_only` will be flipped to `True`. This limits the functions that could be executed during unpickling. Arbitrary objects will no longer be allowed to be loaded via this mode unless they are explicitly allowlisted by the user via `torch.serialization.add_safe_globals`. We recommend you start setting `weights_only=True` for any use case where you don't have full control of the loaded file. Please open an issue on GitHub for any issues related to this experimental feature.\n",
      "  model.load_state_dict(torch.load(filelike, map_location=device))\n"
     ]
    }
   ],
   "source": [
    "import spacy\n",
    "nlp = spacy.load(\"de_dep_news_trf\") #insert the name of the model you want to use (preload if necessary)"
   ]
  },
  {
   "cell_type": "code",
   "execution_count": 11,
   "metadata": {},
   "outputs": [],
   "source": [
    "import functions #functions for normalization and sentence splitting"
   ]
  },
  {
   "cell_type": "code",
   "execution_count": 12,
   "metadata": {},
   "outputs": [],
   "source": [
    "import pandas as pd"
   ]
  },
  {
   "cell_type": "code",
   "execution_count": 13,
   "metadata": {},
   "outputs": [],
   "source": [
    "#using the deTenTen23 corpus as an example\n",
    "df = pd.read_excel('gehören_deTenTen.xlsx') #insert the name of your excel file (or csv file)"
   ]
  },
  {
   "cell_type": "code",
   "execution_count": 14,
   "metadata": {},
   "outputs": [
    {
     "name": "stdout",
     "output_type": "stream",
     "text": [
      "Reference      10000\n",
      "Sentence       10000\n",
      "sentence_id    10000\n",
      "dtype: int64\n",
      "   Reference                                           Sentence  sentence_id\n",
      "0    l.de,de                         <s> Dazu gehören z.B. </s>            1\n",
      "1   fr.de,de  <s> Sie war eine Führungsfigur der frühen Grün...            2\n",
      "2   ra.de,de  <s> Denn zum Prüfprogramm im Sinn von Art. 59 ...            3\n",
      "3   mz.de,de  <s> Die Szenen mit ihm gehören zu den wohl rüh...            4\n",
      "4  t1p.de,de  <s> Zu unserem Service gehören aber mehrere Do...            5\n"
     ]
    }
   ],
   "source": [
    "# adding id numbers\n",
    "df['sentence_id'] = df.reset_index().index +1\n",
    "print(df.count())\n",
    "print(df.head())"
   ]
  },
  {
   "cell_type": "code",
   "execution_count": 15,
   "metadata": {},
   "outputs": [],
   "source": [
    "df[['URL','Domain']] = df['Reference'].str.split(',',expand=True).copy()"
   ]
  },
  {
   "cell_type": "code",
   "execution_count": 16,
   "metadata": {},
   "outputs": [
    {
     "data": {
      "text/html": [
       "<div>\n",
       "<style scoped>\n",
       "    .dataframe tbody tr th:only-of-type {\n",
       "        vertical-align: middle;\n",
       "    }\n",
       "\n",
       "    .dataframe tbody tr th {\n",
       "        vertical-align: top;\n",
       "    }\n",
       "\n",
       "    .dataframe thead th {\n",
       "        text-align: right;\n",
       "    }\n",
       "</style>\n",
       "<table border=\"1\" class=\"dataframe\">\n",
       "  <thead>\n",
       "    <tr style=\"text-align: right;\">\n",
       "      <th></th>\n",
       "      <th>Reference</th>\n",
       "      <th>Sentence</th>\n",
       "      <th>sentence_id</th>\n",
       "      <th>URL</th>\n",
       "      <th>Domain</th>\n",
       "    </tr>\n",
       "  </thead>\n",
       "  <tbody>\n",
       "    <tr>\n",
       "      <th>0</th>\n",
       "      <td>l.de,de</td>\n",
       "      <td>&lt;s&gt; Dazu gehören z.B. &lt;/s&gt;</td>\n",
       "      <td>1</td>\n",
       "      <td>l.de</td>\n",
       "      <td>de</td>\n",
       "    </tr>\n",
       "    <tr>\n",
       "      <th>1</th>\n",
       "      <td>fr.de,de</td>\n",
       "      <td>&lt;s&gt; Sie war eine Führungsfigur der frühen Grün...</td>\n",
       "      <td>2</td>\n",
       "      <td>fr.de</td>\n",
       "      <td>de</td>\n",
       "    </tr>\n",
       "    <tr>\n",
       "      <th>2</th>\n",
       "      <td>ra.de,de</td>\n",
       "      <td>&lt;s&gt; Denn zum Prüfprogramm im Sinn von Art. 59 ...</td>\n",
       "      <td>3</td>\n",
       "      <td>ra.de</td>\n",
       "      <td>de</td>\n",
       "    </tr>\n",
       "    <tr>\n",
       "      <th>3</th>\n",
       "      <td>mz.de,de</td>\n",
       "      <td>&lt;s&gt; Die Szenen mit ihm gehören zu den wohl rüh...</td>\n",
       "      <td>4</td>\n",
       "      <td>mz.de</td>\n",
       "      <td>de</td>\n",
       "    </tr>\n",
       "    <tr>\n",
       "      <th>4</th>\n",
       "      <td>t1p.de,de</td>\n",
       "      <td>&lt;s&gt; Zu unserem Service gehören aber mehrere Do...</td>\n",
       "      <td>5</td>\n",
       "      <td>t1p.de</td>\n",
       "      <td>de</td>\n",
       "    </tr>\n",
       "  </tbody>\n",
       "</table>\n",
       "</div>"
      ],
      "text/plain": [
       "   Reference                                           Sentence  sentence_id  \\\n",
       "0    l.de,de                         <s> Dazu gehören z.B. </s>            1   \n",
       "1   fr.de,de  <s> Sie war eine Führungsfigur der frühen Grün...            2   \n",
       "2   ra.de,de  <s> Denn zum Prüfprogramm im Sinn von Art. 59 ...            3   \n",
       "3   mz.de,de  <s> Die Szenen mit ihm gehören zu den wohl rüh...            4   \n",
       "4  t1p.de,de  <s> Zu unserem Service gehören aber mehrere Do...            5   \n",
       "\n",
       "      URL Domain  \n",
       "0    l.de     de  \n",
       "1   fr.de     de  \n",
       "2   ra.de     de  \n",
       "3   mz.de     de  \n",
       "4  t1p.de     de  "
      ]
     },
     "execution_count": 16,
     "metadata": {},
     "output_type": "execute_result"
    }
   ],
   "source": [
    "df.head()"
   ]
  },
  {
   "cell_type": "code",
   "execution_count": 17,
   "metadata": {},
   "outputs": [
    {
     "data": {
      "text/html": [
       "<div>\n",
       "<style scoped>\n",
       "    .dataframe tbody tr th:only-of-type {\n",
       "        vertical-align: middle;\n",
       "    }\n",
       "\n",
       "    .dataframe tbody tr th {\n",
       "        vertical-align: top;\n",
       "    }\n",
       "\n",
       "    .dataframe thead th {\n",
       "        text-align: right;\n",
       "    }\n",
       "</style>\n",
       "<table border=\"1\" class=\"dataframe\">\n",
       "  <thead>\n",
       "    <tr style=\"text-align: right;\">\n",
       "      <th></th>\n",
       "      <th>sentence_id</th>\n",
       "      <th>URL</th>\n",
       "      <th>Domain</th>\n",
       "      <th>text</th>\n",
       "    </tr>\n",
       "  </thead>\n",
       "  <tbody>\n",
       "    <tr>\n",
       "      <th>0</th>\n",
       "      <td>1</td>\n",
       "      <td>l.de</td>\n",
       "      <td>de</td>\n",
       "      <td>Dazu gehören z.B.</td>\n",
       "    </tr>\n",
       "    <tr>\n",
       "      <th>1</th>\n",
       "      <td>2</td>\n",
       "      <td>fr.de</td>\n",
       "      <td>de</td>\n",
       "      <td>Sie war eine Führungsfigur der frühen Grünen: ...</td>\n",
       "    </tr>\n",
       "    <tr>\n",
       "      <th>2</th>\n",
       "      <td>3</td>\n",
       "      <td>ra.de</td>\n",
       "      <td>de</td>\n",
       "      <td>Denn zum Prüfprogramm im Sinn von Art. 59 Satz...</td>\n",
       "    </tr>\n",
       "    <tr>\n",
       "      <th>3</th>\n",
       "      <td>4</td>\n",
       "      <td>mz.de</td>\n",
       "      <td>de</td>\n",
       "      <td>Die Szenen mit ihm gehören zu den wohl rührend...</td>\n",
       "    </tr>\n",
       "    <tr>\n",
       "      <th>4</th>\n",
       "      <td>5</td>\n",
       "      <td>t1p.de</td>\n",
       "      <td>de</td>\n",
       "      <td>Zu unserem Service gehören aber mehrere Domains.</td>\n",
       "    </tr>\n",
       "  </tbody>\n",
       "</table>\n",
       "</div>"
      ],
      "text/plain": [
       "   sentence_id     URL Domain  \\\n",
       "0            1    l.de     de   \n",
       "1            2   fr.de     de   \n",
       "2            3   ra.de     de   \n",
       "3            4   mz.de     de   \n",
       "4            5  t1p.de     de   \n",
       "\n",
       "                                                text  \n",
       "0                                  Dazu gehören z.B.  \n",
       "1  Sie war eine Führungsfigur der frühen Grünen: ...  \n",
       "2  Denn zum Prüfprogramm im Sinn von Art. 59 Satz...  \n",
       "3  Die Szenen mit ihm gehören zu den wohl rührend...  \n",
       "4   Zu unserem Service gehören aber mehrere Domains.  "
      ]
     },
     "execution_count": 17,
     "metadata": {},
     "output_type": "execute_result"
    }
   ],
   "source": [
    "# Normalize the text in the dataframe\n",
    "df['text'] = df['Sentence'].apply(functions.normalize_text)\n",
    "df = df.drop(columns=['Reference', 'Sentence'])\n",
    "df.head()"
   ]
  },
  {
   "cell_type": "code",
   "execution_count": 18,
   "metadata": {},
   "outputs": [
    {
     "name": "stdout",
     "output_type": "stream",
     "text": [
      "   sentence_id    URL Domain  \\\n",
      "0            1   l.de     de   \n",
      "0            1   l.de     de   \n",
      "0            1   l.de     de   \n",
      "1            2  fr.de     de   \n",
      "1            2  fr.de     de   \n",
      "\n",
      "                                                text  \\\n",
      "0                                  Dazu gehören z.B.   \n",
      "0                                  Dazu gehören z.B.   \n",
      "0                                  Dazu gehören z.B.   \n",
      "1  Sie war eine Führungsfigur der frühen Grünen: ...   \n",
      "1  Sie war eine Führungsfigur der frühen Grünen: ...   \n",
      "\n",
      "                                        text_split_0  \\\n",
      "0                                     Dazu gehören z   \n",
      "0                                                  B   \n",
      "0                                                      \n",
      "1       Sie war eine Führungsfigur der frühen Grünen   \n",
      "1   Als Verwaltungsrätin der Europäischen Gemeins...   \n",
      "\n",
      "                                text_split_0_split_1  \\\n",
      "0                                     Dazu gehören z   \n",
      "0                                                  B   \n",
      "0                                                      \n",
      "1       Sie war eine Führungsfigur der frühen Grünen   \n",
      "1   Als Verwaltungsrätin der Europäischen Gemeins...   \n",
      "\n",
      "                                         final_split  \n",
      "0                                     Dazu gehören z  \n",
      "0                                                  B  \n",
      "0                                                     \n",
      "1       Sie war eine Führungsfigur der frühen Grünen  \n",
      "1   Als Verwaltungsrätin der Europäischen Gemeins...  \n",
      "sentence_id             59038\n",
      "URL                     59038\n",
      "Domain                  59038\n",
      "text                    59038\n",
      "text_split_0            59038\n",
      "text_split_0_split_1    59038\n",
      "final_split             59038\n",
      "dtype: int64\n"
     ]
    }
   ],
   "source": [
    "# Define the delimiters\n",
    "delimiters = [r'[^\\w\\s]', r'\\boder\\b', r'\\bund\\b']\n",
    "\n",
    "# Apply the function to the dataframe\n",
    "df = functions.split_and_explode(df, 'text', delimiters)\n",
    "print(df.head())\n",
    "print(df.count())"
   ]
  },
  {
   "cell_type": "code",
   "execution_count": 19,
   "metadata": {},
   "outputs": [],
   "source": [
    "df = df.drop(columns=['text_split_0', 'text_split_0_split_1']) #adjust if you have more  or less delimiters"
   ]
  },
  {
   "cell_type": "code",
   "execution_count": 20,
   "metadata": {},
   "outputs": [
    {
     "name": "stdout",
     "output_type": "stream",
     "text": [
      "<bound method DataFrame.count of       sentence_id                        URL  Domain  \\\n",
      "0               1                       l.de      de   \n",
      "1               2                      fr.de      de   \n",
      "2               3                      ra.de      de   \n",
      "3               4                      mz.de      de   \n",
      "4               5                     t1p.de      de   \n",
      "...           ...                        ...     ...   \n",
      "9995         9996  content-marketing-star.de      de   \n",
      "9996         9997               blogspot.com     com   \n",
      "9997         9998               blogspot.com     com   \n",
      "9998         9999  versicherungsprofi.online  online   \n",
      "9999        10000       opensourceecology.de      de   \n",
      "\n",
      "                                                   text  \\\n",
      "0                                     Dazu gehören z.B.   \n",
      "1     Sie war eine Führungsfigur der frühen Grünen: ...   \n",
      "2     Denn zum Prüfprogramm im Sinn von Art. 59 Satz...   \n",
      "3     Die Szenen mit ihm gehören zu den wohl rührend...   \n",
      "4      Zu unserem Service gehören aber mehrere Domains.   \n",
      "...                                                 ...   \n",
      "9995  Es ist nicht gerade das beliebteste Thema, geh...   \n",
      "9996  Also, wenn du sie magst, gehören sie dir. 8Ans...   \n",
      "9997  Eine typisch männliche Haarlinie ist M-Förmig,...   \n",
      "9998  Hierzu gehören etwa Auseinandersetzungen im Be...   \n",
      "9999  der Informationskanal gehört keiner Identität,...   \n",
      "\n",
      "                                            final_split  gehören_yes  \n",
      "0                                        Dazu gehören z         True  \n",
      "1                gehörte der ersten Fraktionsführung an         True  \n",
      "2      2 BayBO gehören ausschließlich vom Bauherrn t...         True  \n",
      "3     Die Szenen mit ihm gehören zu den wohl rührend...         True  \n",
      "4       Zu unserem Service gehören aber mehrere Domains         True  \n",
      "...                                                 ...          ...  \n",
      "9995                         gehört aber definitiv dazu         True  \n",
      "9996                                    gehören sie dir         True  \n",
      "9997         die zur männlichen Haarlinie dazu gehören          True  \n",
      "9998  Hierzu gehören etwa Auseinandersetzungen im Be...         True  \n",
      "9999      der Informationskanal gehört keiner Identität         True  \n",
      "\n",
      "[10136 rows x 6 columns]>\n"
     ]
    },
    {
     "name": "stderr",
     "output_type": "stream",
     "text": [
      "C:\\Users\\mattesc98\\AppData\\Local\\Temp\\ipykernel_9024\\3484620260.py:2: UserWarning: This pattern is interpreted as a regular expression, and has match groups. To actually get the groups, use str.extract.\n",
      "  df['gehören_yes']=df['final_split'].str.contains(r'geh(ö|oe|o)r*') #adjust the regex to your phenomenon\n"
     ]
    }
   ],
   "source": [
    "#pre-filtering\n",
    "df['gehören_yes']=df['final_split'].str.contains(r'geh(ö|oe|o)r*') #adjust the regex to your phenomenon\n",
    "df = df[df['gehören_yes']]\n",
    "\n",
    "print(df.count)"
   ]
  },
  {
   "cell_type": "code",
   "execution_count": 21,
   "metadata": {},
   "outputs": [],
   "source": [
    "df = df.drop_duplicates(subset='sentence_id')"
   ]
  },
  {
   "cell_type": "code",
   "execution_count": 22,
   "metadata": {},
   "outputs": [],
   "source": [
    "#filter sentences for the target\n",
    "target_lemma = 'gehören'        #adjust the lemma to your target phenomenon\n",
    "target_tag = 'VVPP'             #adjust the tag to your target phenomenon"
   ]
  },
  {
   "cell_type": "code",
   "execution_count": 23,
   "metadata": {},
   "outputs": [
    {
     "name": "stderr",
     "output_type": "stream",
     "text": [
      "c:\\Program Files\\Python312\\Lib\\site-packages\\thinc\\shims\\pytorch.py:114: FutureWarning: `torch.cuda.amp.autocast(args...)` is deprecated. Please use `torch.amp.autocast('cuda', args...)` instead.\n",
      "  with torch.cuda.amp.autocast(self._mixed_precision):\n"
     ]
    }
   ],
   "source": [
    "# extract lemma\n",
    "def extract_lemma(text):\n",
    "    doc = nlp(text)\n",
    "    lemma = [token.text for token in doc if token.lemma_ == target_lemma]\n",
    "    return ', '.join(lemma)\n",
    "\n",
    "# Apply the function to the column and create a new column with the extracted verbs\n",
    "df['gehören'] = df['final_split'].apply(extract_lemma)"
   ]
  },
  {
   "cell_type": "code",
   "execution_count": 24,
   "metadata": {},
   "outputs": [
    {
     "name": "stderr",
     "output_type": "stream",
     "text": [
      "c:\\Program Files\\Python312\\Lib\\site-packages\\thinc\\shims\\pytorch.py:114: FutureWarning: `torch.cuda.amp.autocast(args...)` is deprecated. Please use `torch.amp.autocast('cuda', args...)` instead.\n",
      "  with torch.cuda.amp.autocast(self._mixed_precision):\n"
     ]
    }
   ],
   "source": [
    "# extract tagged verbs\n",
    "def extract_tag(text):\n",
    "    doc = nlp(text)\n",
    "    tags = [token.text for token in doc if token.tag_ == target_tag and token.lemma_ != target_lemma]\n",
    "    return ', '.join(tags)\n",
    "\n",
    "# Apply the function to the column and create a new column with the extracted verbs\n",
    "df['VVPP'] = df['final_split'].apply(extract_tag)"
   ]
  },
  {
   "cell_type": "code",
   "execution_count": 25,
   "metadata": {},
   "outputs": [
    {
     "data": {
      "text/html": [
       "<div>\n",
       "<style scoped>\n",
       "    .dataframe tbody tr th:only-of-type {\n",
       "        vertical-align: middle;\n",
       "    }\n",
       "\n",
       "    .dataframe tbody tr th {\n",
       "        vertical-align: top;\n",
       "    }\n",
       "\n",
       "    .dataframe thead th {\n",
       "        text-align: right;\n",
       "    }\n",
       "</style>\n",
       "<table border=\"1\" class=\"dataframe\">\n",
       "  <thead>\n",
       "    <tr style=\"text-align: right;\">\n",
       "      <th></th>\n",
       "      <th>sentence_id</th>\n",
       "      <th>URL</th>\n",
       "      <th>Domain</th>\n",
       "      <th>text</th>\n",
       "      <th>final_split</th>\n",
       "      <th>gehören_yes</th>\n",
       "      <th>gehören</th>\n",
       "      <th>VVPP</th>\n",
       "    </tr>\n",
       "  </thead>\n",
       "  <tbody>\n",
       "    <tr>\n",
       "      <th>0</th>\n",
       "      <td>1</td>\n",
       "      <td>l.de</td>\n",
       "      <td>de</td>\n",
       "      <td>Dazu gehören z.B.</td>\n",
       "      <td>Dazu gehören z</td>\n",
       "      <td>True</td>\n",
       "      <td>gehören</td>\n",
       "      <td>NaN</td>\n",
       "    </tr>\n",
       "    <tr>\n",
       "      <th>1</th>\n",
       "      <td>2</td>\n",
       "      <td>fr.de</td>\n",
       "      <td>de</td>\n",
       "      <td>Sie war eine Führungsfigur der frühen Grünen: ...</td>\n",
       "      <td>gehörte der ersten Fraktionsführung an</td>\n",
       "      <td>True</td>\n",
       "      <td>gehörte</td>\n",
       "      <td>NaN</td>\n",
       "    </tr>\n",
       "    <tr>\n",
       "      <th>2</th>\n",
       "      <td>3</td>\n",
       "      <td>ra.de</td>\n",
       "      <td>de</td>\n",
       "      <td>Denn zum Prüfprogramm im Sinn von Art. 59 Satz...</td>\n",
       "      <td>2 BayBO gehören ausschließlich vom Bauherrn t...</td>\n",
       "      <td>True</td>\n",
       "      <td>gehören</td>\n",
       "      <td>NaN</td>\n",
       "    </tr>\n",
       "    <tr>\n",
       "      <th>3</th>\n",
       "      <td>4</td>\n",
       "      <td>mz.de</td>\n",
       "      <td>de</td>\n",
       "      <td>Die Szenen mit ihm gehören zu den wohl rührend...</td>\n",
       "      <td>Die Szenen mit ihm gehören zu den wohl rührend...</td>\n",
       "      <td>True</td>\n",
       "      <td>gehören</td>\n",
       "      <td>NaN</td>\n",
       "    </tr>\n",
       "    <tr>\n",
       "      <th>4</th>\n",
       "      <td>5</td>\n",
       "      <td>t1p.de</td>\n",
       "      <td>de</td>\n",
       "      <td>Zu unserem Service gehören aber mehrere Domains.</td>\n",
       "      <td>Zu unserem Service gehören aber mehrere Domains</td>\n",
       "      <td>True</td>\n",
       "      <td>gehören</td>\n",
       "      <td>NaN</td>\n",
       "    </tr>\n",
       "  </tbody>\n",
       "</table>\n",
       "</div>"
      ],
      "text/plain": [
       "   sentence_id     URL Domain  \\\n",
       "0            1    l.de     de   \n",
       "1            2   fr.de     de   \n",
       "2            3   ra.de     de   \n",
       "3            4   mz.de     de   \n",
       "4            5  t1p.de     de   \n",
       "\n",
       "                                                text  \\\n",
       "0                                  Dazu gehören z.B.   \n",
       "1  Sie war eine Führungsfigur der frühen Grünen: ...   \n",
       "2  Denn zum Prüfprogramm im Sinn von Art. 59 Satz...   \n",
       "3  Die Szenen mit ihm gehören zu den wohl rührend...   \n",
       "4   Zu unserem Service gehören aber mehrere Domains.   \n",
       "\n",
       "                                         final_split  gehören_yes  gehören  \\\n",
       "0                                     Dazu gehören z         True  gehören   \n",
       "1             gehörte der ersten Fraktionsführung an         True  gehörte   \n",
       "2   2 BayBO gehören ausschließlich vom Bauherrn t...         True  gehören   \n",
       "3  Die Szenen mit ihm gehören zu den wohl rührend...         True  gehören   \n",
       "4    Zu unserem Service gehören aber mehrere Domains         True  gehören   \n",
       "\n",
       "  VVPP  \n",
       "0  NaN  \n",
       "1  NaN  \n",
       "2  NaN  \n",
       "3  NaN  \n",
       "4  NaN  "
      ]
     },
     "execution_count": 25,
     "metadata": {},
     "output_type": "execute_result"
    }
   ],
   "source": [
    "#nan values the df\n",
    "nan_value = float(\"NaN\")\n",
    "df.replace(\"\", nan_value, inplace=True)\n",
    "df.head()"
   ]
  },
  {
   "cell_type": "code",
   "execution_count": 26,
   "metadata": {},
   "outputs": [
    {
     "data": {
      "text/html": [
       "<div>\n",
       "<style scoped>\n",
       "    .dataframe tbody tr th:only-of-type {\n",
       "        vertical-align: middle;\n",
       "    }\n",
       "\n",
       "    .dataframe tbody tr th {\n",
       "        vertical-align: top;\n",
       "    }\n",
       "\n",
       "    .dataframe thead th {\n",
       "        text-align: right;\n",
       "    }\n",
       "</style>\n",
       "<table border=\"1\" class=\"dataframe\">\n",
       "  <thead>\n",
       "    <tr style=\"text-align: right;\">\n",
       "      <th></th>\n",
       "      <th>sentence_id</th>\n",
       "      <th>URL</th>\n",
       "      <th>Domain</th>\n",
       "      <th>text</th>\n",
       "      <th>final_split</th>\n",
       "      <th>gehören_yes</th>\n",
       "      <th>gehören</th>\n",
       "      <th>VVPP</th>\n",
       "    </tr>\n",
       "  </thead>\n",
       "  <tbody>\n",
       "    <tr>\n",
       "      <th>234</th>\n",
       "      <td>235</td>\n",
       "      <td>mademyday.com</td>\n",
       "      <td>com</td>\n",
       "      <td>Du gehörst dann zu den vielen Leuten die sich ...</td>\n",
       "      <td>Du gehörst dann zu den vielen Leuten die sich ...</td>\n",
       "      <td>True</td>\n",
       "      <td>gehörst</td>\n",
       "      <td>informiert</td>\n",
       "    </tr>\n",
       "    <tr>\n",
       "      <th>374</th>\n",
       "      <td>375</td>\n",
       "      <td>felsenheimat.de</td>\n",
       "      <td>de</td>\n",
       "      <td>Hierzu nutze ich am liebsten die seit Jahren v...</td>\n",
       "      <td>Aktuelle Wetterdaten gehören ebenfalls mit ei...</td>\n",
       "      <td>True</td>\n",
       "      <td>gehören</td>\n",
       "      <td>einbezogen</td>\n",
       "    </tr>\n",
       "    <tr>\n",
       "      <th>419</th>\n",
       "      <td>420</td>\n",
       "      <td>blurayreviews.ch</td>\n",
       "      <td>ch</td>\n",
       "      <td>Mit 'Blackhat' hat Michael Mann einen zwar zei...</td>\n",
       "      <td>Thriller geschaffen der leider zu den schwäche...</td>\n",
       "      <td>True</td>\n",
       "      <td>gehört</td>\n",
       "      <td>geschaffen</td>\n",
       "    </tr>\n",
       "    <tr>\n",
       "      <th>427</th>\n",
       "      <td>428</td>\n",
       "      <td>philhaarmonie.de</td>\n",
       "      <td>de</td>\n",
       "      <td>Wetten auf Sportereignisse wo vorwiegend minde...</td>\n",
       "      <td>gehören verboten</td>\n",
       "      <td>True</td>\n",
       "      <td>gehören</td>\n",
       "      <td>verboten</td>\n",
       "    </tr>\n",
       "    <tr>\n",
       "      <th>526</th>\n",
       "      <td>527</td>\n",
       "      <td>kredit-journal.net</td>\n",
       "      <td>net</td>\n",
       "      <td>Die Deutsche Kreditbank AG wurde bereits 1990 ...</td>\n",
       "      <td>Die Deutsche Kreditbank AG wurde bereits 1990 ...</td>\n",
       "      <td>True</td>\n",
       "      <td>gehört</td>\n",
       "      <td>gegründet</td>\n",
       "    </tr>\n",
       "  </tbody>\n",
       "</table>\n",
       "</div>"
      ],
      "text/plain": [
       "     sentence_id                 URL Domain  \\\n",
       "234          235       mademyday.com    com   \n",
       "374          375     felsenheimat.de     de   \n",
       "419          420    blurayreviews.ch     ch   \n",
       "427          428    philhaarmonie.de     de   \n",
       "526          527  kredit-journal.net    net   \n",
       "\n",
       "                                                  text  \\\n",
       "234  Du gehörst dann zu den vielen Leuten die sich ...   \n",
       "374  Hierzu nutze ich am liebsten die seit Jahren v...   \n",
       "419  Mit 'Blackhat' hat Michael Mann einen zwar zei...   \n",
       "427  Wetten auf Sportereignisse wo vorwiegend minde...   \n",
       "526  Die Deutsche Kreditbank AG wurde bereits 1990 ...   \n",
       "\n",
       "                                           final_split  gehören_yes  gehören  \\\n",
       "234  Du gehörst dann zu den vielen Leuten die sich ...         True  gehörst   \n",
       "374   Aktuelle Wetterdaten gehören ebenfalls mit ei...         True  gehören   \n",
       "419  Thriller geschaffen der leider zu den schwäche...         True   gehört   \n",
       "427                                   gehören verboten         True  gehören   \n",
       "526  Die Deutsche Kreditbank AG wurde bereits 1990 ...         True   gehört   \n",
       "\n",
       "           VVPP  \n",
       "234  informiert  \n",
       "374  einbezogen  \n",
       "419  geschaffen  \n",
       "427    verboten  \n",
       "526   gegründet  "
      ]
     },
     "execution_count": 26,
     "metadata": {},
     "output_type": "execute_result"
    }
   ],
   "source": [
    "#remove the rows with NaN\n",
    "df.dropna(subset = ['gehören', 'VVPP'], inplace =True)\n",
    "df.head()"
   ]
  },
  {
   "cell_type": "code",
   "execution_count": 27,
   "metadata": {},
   "outputs": [
    {
     "data": {
      "text/plain": [
       "sentence_id    145\n",
       "URL            145\n",
       "Domain         145\n",
       "text           145\n",
       "final_split    145\n",
       "gehören_yes    145\n",
       "gehören        145\n",
       "VVPP           145\n",
       "dtype: int64"
      ]
     },
     "execution_count": 27,
     "metadata": {},
     "output_type": "execute_result"
    }
   ],
   "source": [
    "df.count()"
   ]
  },
  {
   "cell_type": "code",
   "execution_count": 28,
   "metadata": {},
   "outputs": [
    {
     "name": "stdout",
     "output_type": "stream",
     "text": [
      "      sentence_id                   URL Domain  \\\n",
      "234           235         mademyday.com    com   \n",
      "374           375       felsenheimat.de     de   \n",
      "419           420      blurayreviews.ch     ch   \n",
      "427           428      philhaarmonie.de     de   \n",
      "526           527    kredit-journal.net    net   \n",
      "...           ...                   ...    ...   \n",
      "9785         9786     bottwartalbahn.de     de   \n",
      "9789         9790     adventureinsel.de     de   \n",
      "9842         9843    vw-golf-country.de     de   \n",
      "9892         9893  tierregistrierung.de     de   \n",
      "9982         9983                w4f.eu     eu   \n",
      "\n",
      "                                                   text  \\\n",
      "234   Du gehörst dann zu den vielen Leuten die sich ...   \n",
      "374   Hierzu nutze ich am liebsten die seit Jahren v...   \n",
      "419   Mit 'Blackhat' hat Michael Mann einen zwar zei...   \n",
      "427   Wetten auf Sportereignisse wo vorwiegend minde...   \n",
      "526   Die Deutsche Kreditbank AG wurde bereits 1990 ...   \n",
      "...                                                 ...   \n",
      "9785  An sich gehören diese Griffstangen an sämtlich...   \n",
      "9789  hi ruth, ja unter anderem auch wegen des herzk...   \n",
      "9842  watt watt wer wollte den nen genesis abwracken...   \n",
      "9892  Bonn (dpa/tmn) - Transportboxen oder Käfige vo...   \n",
      "9982  Wer so einen horrenden Quatsch glaubt, steht n...   \n",
      "\n",
      "                                            final_split  gehören_yes  gehören  \\\n",
      "234   Du gehörst dann zu den vielen Leuten die sich ...         True  gehörst   \n",
      "374    Aktuelle Wetterdaten gehören ebenfalls mit ei...         True  gehören   \n",
      "419   Thriller geschaffen der leider zu den schwäche...         True   gehört   \n",
      "427                                    gehören verboten         True  gehören   \n",
      "526   Die Deutsche Kreditbank AG wurde bereits 1990 ...         True   gehört   \n",
      "...                                                 ...          ...      ...   \n",
      "9785  An sich gehören diese Griffstangen an sämtlich...         True  gehören   \n",
      "9789  all diese kleinigkeiten hat man dann halt ganz...         True   gehört   \n",
      "9842  tzzz sowatt gehört gehörig bestraft haste jut ...         True   gehört   \n",
      "9892   Käfige von Nagern gehören beim Transport imme...         True  gehören   \n",
      "9982    gehört weggesperrt in eine geschlossene Anstalt         True   gehört   \n",
      "\n",
      "                   VVPP  \n",
      "234          informiert  \n",
      "374          einbezogen  \n",
      "419          geschaffen  \n",
      "427            verboten  \n",
      "526           gegründet  \n",
      "...                 ...  \n",
      "9785         angebracht  \n",
      "9789            gezogen  \n",
      "9842  bestraft, jemacht  \n",
      "9892          abgedeckt  \n",
      "9982        weggesperrt  \n",
      "\n",
      "[145 rows x 8 columns]\n"
     ]
    }
   ],
   "source": [
    "print(df)\n",
    "df.to_excel('gehören_passive_filtered.xlsx', index=False)"
   ]
  },
  {
   "cell_type": "code",
   "execution_count": 30,
   "metadata": {},
   "outputs": [
    {
     "data": {
      "text/plain": [
       "Domain\n",
       "de      85\n",
       "at      21\n",
       "com     19\n",
       "net      9\n",
       "ch       3\n",
       "org      2\n",
       "eu       2\n",
       "info     2\n",
       "blog     1\n",
       "news     1\n",
       "Name: count, dtype: int64"
      ]
     },
     "execution_count": 30,
     "metadata": {},
     "output_type": "execute_result"
    }
   ],
   "source": [
    "df['Domain'].value_counts()"
   ]
  },
  {
   "cell_type": "code",
   "execution_count": 31,
   "metadata": {},
   "outputs": [
    {
     "data": {
      "text/plain": [
       "VVPP\n",
       "verboten        9\n",
       "gesehen         5\n",
       "abgeschafft     4\n",
       "diskutiert      3\n",
       "bestraft        3\n",
       "               ..\n",
       "entmachtet      1\n",
       "verbracht       1\n",
       "erlegt          1\n",
       "veranstaltet    1\n",
       "weggesperrt     1\n",
       "Name: count, Length: 110, dtype: int64"
      ]
     },
     "execution_count": 31,
     "metadata": {},
     "output_type": "execute_result"
    }
   ],
   "source": [
    "df['VVPP'].value_counts()"
   ]
  }
 ],
 "metadata": {
  "kernelspec": {
   "display_name": "Python 3",
   "language": "python",
   "name": "python3"
  },
  "language_info": {
   "codemirror_mode": {
    "name": "ipython",
    "version": 3
   },
   "file_extension": ".py",
   "mimetype": "text/x-python",
   "name": "python",
   "nbconvert_exporter": "python",
   "pygments_lexer": "ipython3",
   "version": "3.12.4"
  },
  "orig_nbformat": 4
 },
 "nbformat": 4,
 "nbformat_minor": 2
}
